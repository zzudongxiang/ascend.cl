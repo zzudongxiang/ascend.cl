{
 "cells": [
  {
   "cell_type": "markdown",
   "metadata": {},
   "source": [
    "# 测试任意两卡之间的HCCL通信带宽的脚本\n",
    "\n",
    "- **平均测试时间**：是指某一算法先做m次预热，再做n次测试，并从n次测试开始计时，计算算法完成时平均每次迭代的耗时\n",
    "\n",
    "- **算法带宽**：是指申请内存大小/平均时间的数据，包含数据传输、计算和内存复制的带宽\n",
    "\n"
   ]
  },
  {
   "cell_type": "markdown",
   "metadata": {},
   "source": [
    "## I. 导入相关的包并定义初始化的变量"
   ]
  },
  {
   "cell_type": "code",
   "execution_count": null,
   "metadata": {},
   "outputs": [],
   "source": [
    "import os\n",
    "import numpy as np\n",
    "from tqdm import trange\n",
    "from matplotlib import pyplot as plt"
   ]
  },
  {
   "cell_type": "code",
   "execution_count": null,
   "metadata": {},
   "outputs": [],
   "source": [
    "# 定义根目录\n",
    "root_path = \"/root/Workdir/hccl_test\"\n",
    "# 定义npu的总数\n",
    "npus = 8\n",
    "# 定义算法的名字和对应的绘图的颜色\n",
    "test_func = {\n",
    "    \"all_gather\" :\"black\",\n",
    "    \"all_reduce\": \"red\",\n",
    "    \"alltoall\": \"orange\",\n",
    "    \"alltoallv\": \"green\",\n",
    "    \"broadcast\": \"cyan\",\n",
    "    \"reduce\": \"blue\",\n",
    "    \"reduce_scatter\": \"purple\"\n",
    "}\n",
    "# 定义要绘制的图形与对应的单位\n",
    "unit_list = {\n",
    "    \"alg_bandwidth\": \"GB/s\",\n",
    "    \"aveg_time\": \"s\"\n",
    "}\n",
    "os.chdir(root_path)"
   ]
  },
  {
   "cell_type": "markdown",
   "metadata": {},
   "source": [
    "## II. 进行HCCL测试"
   ]
  },
  {
   "cell_type": "markdown",
   "metadata": {},
   "source": [
    "### 2.1 清理工作环境"
   ]
  },
  {
   "cell_type": "code",
   "execution_count": null,
   "metadata": {},
   "outputs": [],
   "source": [
    "print(os.getcwd())\n",
    "os.system(\"make clean\")\n",
    "os.system(\"rm -rf ./log\")\n",
    "os.system(\"mkdir ./log\")\n",
    "os.system(\"mkdir ./log/data\")\n",
    "os.system(\"mkdir ./log/dump\")\n",
    "os.system(\"mkdir ./log/plot\")\n",
    "os.system(\"make\")"
   ]
  },
  {
   "cell_type": "markdown",
   "metadata": {},
   "source": [
    "### 2.2 获取遍历列表"
   ]
  },
  {
   "cell_type": "code",
   "execution_count": null,
   "metadata": {},
   "outputs": [],
   "source": [
    "args = []\n",
    "for npu0 in range(npus):\n",
    "    for npu1 in range(npus):\n",
    "        for func in test_func:\n",
    "            if npu0 <= npu1: continue\n",
    "            arg = {\n",
    "                \"npu0\": npu0,\n",
    "                \"npu1\": npu1, \n",
    "                \"func\": func\n",
    "            }\n",
    "            args.append(arg)\n",
    "print(f'len args: {len(args)}')"
   ]
  },
  {
   "cell_type": "markdown",
   "metadata": {},
   "source": [
    "### 2.3 执行测试脚本\n",
    "\n",
    "```text\n",
    "-b,--minbytes <min size in bytes>\n",
    "-e,--maxbytes <max size in bytes>\n",
    "-i,--stepbytes <increment size>\n",
    "-f,--stepfactor <increment factor>\n",
    "-n,--iters <iteration count>\n",
    "-o,--op <sum/prod/min/max>\n",
    "-d,--datatype <int8/int16/int32/fp16/fp32/int64/uint64/uint8/uint16/uint32/fp64/bfp16>\n",
    "-r,--root <root>\n",
    "-w,--warmup_iters <warmup iteration count>\n",
    "-c,--check <result verification> 0:disabled 1:enabled.\n",
    "-p,--npus <npus used for one node>\n",
    "-h,--help\n",
    "```"
   ]
  },
  {
   "cell_type": "code",
   "execution_count": null,
   "metadata": {},
   "outputs": [],
   "source": [
    "for i in trange(len(args)):\n",
    "    func = args[i][\"func\"]\n",
    "    npu0 = args[i][\"npu0\"]\n",
    "    npu1 = args[i][\"npu1\"]\n",
    "    os.environ['HCCL_TEST_USE_DEVS'] = f'{npu0},{npu1}'\n",
    "    os.system(f\"mpirun -n 2 ./bin/{func}_test -b 10M -e 4096M -f 2 -p 2 > ./log/data/{func}_npu{npu0}-{npu1}.log\")"
   ]
  },
  {
   "cell_type": "markdown",
   "metadata": {},
   "source": [
    "## III. 绘图"
   ]
  },
  {
   "cell_type": "markdown",
   "metadata": {},
   "source": [
    "### 3.1 绘图预处理"
   ]
  },
  {
   "cell_type": "code",
   "execution_count": null,
   "metadata": {},
   "outputs": [],
   "source": [
    "src_data = {}\n",
    "for func in test_func:\n",
    "    src_data[func] = []\n",
    "for i in range(len(args)):\n",
    "    func = args[i][\"func\"]\n",
    "    npu0 = args[i][\"npu0\"]\n",
    "    npu1 = args[i][\"npu1\"]\n",
    "    file_path = f'./log/data/{func}_npu{npu0}-{npu1}.log'\n",
    "    if not os.path.exists(file_path):\n",
    "        print(f'skip file: {func}_npu{npu0}-{npu1}.log')\n",
    "        continue\n",
    "    with open(file_path, 'r+') as file:\n",
    "        lines = file.readlines()\n",
    "    data_size = []\n",
    "    aveg_time = []\n",
    "    alg_bandwidth = []\n",
    "    for line in lines:\n",
    "        values = line.replace(' ', '').split('|')\n",
    "        try:\n",
    "            data_size.append(int(values[0]) / 1024 / 1024)\n",
    "            aveg_time.append(float(values[1]))\n",
    "            alg_bandwidth.append(float(values[2]))\n",
    "        except:\n",
    "            continue\n",
    "    src_data[func].append({\n",
    "        \"npu\":f\"npu{npu0}-npu{npu1}\",\n",
    "        \"data_size\":data_size,\n",
    "        \"aveg_time\":aveg_time,\n",
    "        \"alg_bandwidth\":alg_bandwidth,\n",
    "    })"
   ]
  },
  {
   "cell_type": "markdown",
   "metadata": {},
   "source": [
    "### 3.2 按照算法分类进行绘图"
   ]
  },
  {
   "cell_type": "code",
   "execution_count": null,
   "metadata": {},
   "outputs": [],
   "source": [
    "for func in test_func:\n",
    "    values = src_data[func]\n",
    "    for title in unit_list:\n",
    "        unit = unit_list[title]\n",
    "        plt.cla()\n",
    "        plt.title(func)\n",
    "        plt.xscale(\"log\")\n",
    "        plt.yscale(\"log\")\n",
    "        plt.xlabel(\"data_size (MB)\")\n",
    "        plt.ylabel(f\"{title} ({unit})\")\n",
    "        for value in values:\n",
    "            x_data = value[\"data_size\"]\n",
    "            y_data = value[title]\n",
    "            if title == 'alg_bandwidth':\n",
    "                l_data = f'{value[\"npu\"]} (MAX: %.2f {unit})' % np.max(y_data)\n",
    "            else:\n",
    "                l_data = value[\"npu\"]\n",
    "            plt.plot(x_data, y_data, label=l_data)\n",
    "        if title == 'alg_bandwidth':\n",
    "            plt.legend(loc=\"upper left\")\n",
    "        else:\n",
    "            plt.legend(loc=\"upper left\")\n",
    "        plt.savefig(f\"./log/plot/{title}_{func}.png\")"
   ]
  },
  {
   "cell_type": "markdown",
   "metadata": {},
   "source": [
    "### 3.3 所有数据一起绘图"
   ]
  },
  {
   "cell_type": "code",
   "execution_count": null,
   "metadata": {},
   "outputs": [],
   "source": [
    "for title in unit_list:\n",
    "    unit = unit_list[title]\n",
    "    y_values = []\n",
    "    plt.cla()\n",
    "    plt.xscale(\"log\")\n",
    "    plt.yscale(\"log\")\n",
    "    plt.xlabel(\"data_size (MB)\")\n",
    "    plt.ylabel(f\"{title} ({unit})\")\n",
    "    for func in test_func:\n",
    "        values = src_data[func]\n",
    "        for value in values:\n",
    "            x_data = value[\"data_size\"]\n",
    "            y_data = value[title]\n",
    "            y_values.extend(y_data)\n",
    "            plt.plot(x_data, y_data, color=test_func[func])\n",
    "    if title == 'alg_bandwidth':\n",
    "        plt.title(f'{title} (MAX: %.2f {unit})' % max(y_values))\n",
    "    else:\n",
    "        plt.title(title)\n",
    "    plt.savefig(f\"./log/{title}_{func}.png\")"
   ]
  }
 ],
 "metadata": {
  "kernelspec": {
   "display_name": "mindspore",
   "language": "python",
   "name": "python3"
  },
  "language_info": {
   "codemirror_mode": {
    "name": "ipython",
    "version": 3
   },
   "file_extension": ".py",
   "mimetype": "text/x-python",
   "name": "python",
   "nbconvert_exporter": "python",
   "pygments_lexer": "ipython3",
   "version": "3.7.12"
  }
 },
 "nbformat": 4,
 "nbformat_minor": 2
}
