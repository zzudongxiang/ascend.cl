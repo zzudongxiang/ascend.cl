{
 "cells": [
  {
   "cell_type": "markdown",
   "metadata": {},
   "source": [
    "# 测试8个GPU之间的HCCL通信带宽的脚本\n",
    "\n",
    "- **平均测试时间**：是指某一算法先做m次预热，再做n次测试，并从n次测试开始计时，计算算法完成时平均每次迭代的耗时\n",
    "\n",
    "- **算法带宽**：是指申请内存大小/平均时间的数据，包含数据传输、计算和内存复制的带宽"
   ]
  },
  {
   "cell_type": "markdown",
   "metadata": {},
   "source": [
    "## I. 导入相关的包并定义初始化的变量"
   ]
  },
  {
   "cell_type": "code",
   "execution_count": null,
   "metadata": {},
   "outputs": [],
   "source": [
    "import os, re, time, json, stat\n",
    "\n",
    "# 定义根目录\n",
    "root_path = \"/root/Workdir/hccl_test\"\n",
    "# 定义算法的名字和对应的绘图的颜色\n",
    "test_func = [\n",
    "    #\"all_gather\",\n",
    "    #\"all_reduce\",\n",
    "    #\"alltoall\",\n",
    "    #\"alltoallv\",\n",
    "    \"broadcast\",\n",
    "    #\"reduce\",\n",
    "    #\"reduce_scatter\",\n",
    "]\n",
    "# 其实内存容量\n",
    "test_mem_start = 2048*1024*1024\n",
    "# 结束的内存容量\n",
    "test_mem_stop = 2048*1024*1024\n",
    "# 增长倍数\n",
    "test_mem_factor = 2\n",
    "# 指定参与运算的NPU卡号\n",
    "npu_list = [\"0\", \"1\", \"2\", \"3\", \"4\", \"5\", \"6\", \"7\"]\n"
   ]
  },
  {
   "cell_type": "markdown",
   "metadata": {},
   "source": [
    "## II. 进行HCCL测试"
   ]
  },
  {
   "cell_type": "markdown",
   "metadata": {},
   "source": [
    "### 2.1 清理工作环境"
   ]
  },
  {
   "cell_type": "code",
   "execution_count": null,
   "metadata": {},
   "outputs": [],
   "source": [
    "os.chdir(root_path)\n",
    "os.system(\"make clean\")\n",
    "os.system(\"make\")\n",
    "print(os.getcwd())\n",
    "\n",
    "os.system(f\"rm -rf {root_path}/log\")\n",
    "os.makedirs(f\"{root_path}/log/data\")\n",
    "os.makedirs(f\"{root_path}/log/prof\")"
   ]
  },
  {
   "cell_type": "code",
   "execution_count": null,
   "metadata": {},
   "outputs": [],
   "source": [
    "mem_list = []\n",
    "mem_size = test_mem_start\n",
    "while mem_size <= test_mem_stop:\n",
    "    for func in test_func:\n",
    "        mem_list.append([func, mem_size])\n",
    "    mem_size = mem_size * 2\n",
    "mem_count = len(mem_list)\n",
    "print(f\"mem_list len: {mem_count}\")"
   ]
  },
  {
   "cell_type": "markdown",
   "metadata": {},
   "source": [
    "### 2.2 执行测试脚本\n",
    "\n",
    "```text\n",
    "-b,--minbytes <min size in bytes>\n",
    "-e,--maxbytes <max size in bytes>\n",
    "-i,--stepbytes <increment size>\n",
    "-f,--stepfactor <increment factor>\n",
    "-n,--iters <iteration count>\n",
    "-o,--op <sum/prod/min/max>\n",
    "-d,--datatype <int8/int16/int32/fp16/fp32/int64/uint64/uint8/uint16/uint32/fp64/bfp16>\n",
    "-r,--root <root>\n",
    "-w,--warmup_iters <warmup iteration count>\n",
    "-c,--check <result verification> 0:disabled 1:enabled.\n",
    "-p,--npus <npus used for one node>\n",
    "-h,--help\n",
    "```"
   ]
  },
  {
   "cell_type": "code",
   "execution_count": null,
   "metadata": {},
   "outputs": [],
   "source": [
    "def get_size(size):\n",
    "    units = ['B', 'kB', 'MB', 'GB', 'TB']\n",
    "    unit_index = 0\n",
    "    while size > 1024:\n",
    "        size = size / 1024.00\n",
    "        unit_index += 1\n",
    "    return f'{size}{units[unit_index]}'\n",
    "\n",
    "def get_script(func, mem_size):\n",
    "    npus = len(npu_list)\n",
    "    run_file = f\"{root_path}/log/temp_run\"\n",
    "    cmd = f\"mpirun -n {npus} {root_path}/bin/{func}_test -b {mem_size} -e {mem_size} -p {npus} > {root_path}/log/data/{func}_all_npu.log\"\n",
    "    with open(f\"{run_file}.sh\", 'w+') as file:\n",
    "        file.writelines(cmd)\n",
    "    os.chmod(f'{run_file}.sh', stat.S_IRWXU)\n",
    "    return run_file\n",
    "\n",
    "def get_time(start_time):\n",
    "    day = 0\n",
    "    hour = 0\n",
    "    minute = 0\n",
    "    second = 0\n",
    "    second = int(time.time() - start_time)\n",
    "    while second > 60:\n",
    "        second = second - 60\n",
    "        minute += 1\n",
    "    while minute > 60:\n",
    "        minute = minute - 60\n",
    "        hour += 1\n",
    "    while hour > 24:\n",
    "        hour = hour - 24\n",
    "        day += 1\n",
    "    if day > 0:\n",
    "        return f\"{day} day {hour:02d}:{minute:02d}:{second:02d}\"\n",
    "    else:\n",
    "        return f\"{hour:02d}:{minute:02d}:{second:02d}\"\n",
    "\n",
    "def merge_json(src_path, dst_file):\n",
    "    device_list = {}\n",
    "    merge_timeline = []\n",
    "    for dir in os.listdir(src_path):\n",
    "        cur_device = \"null\"\n",
    "        for device in os.listdir(f\"{src_path}/{dir}\"):\n",
    "            if re.match(r\"device_\\d+\", device):\n",
    "                cur_device = device\n",
    "                break\n",
    "        timeline = os.listdir(f\"{src_path}/{dir}/timeline\")[-1]\n",
    "        device_list[cur_device] = f\"{src_path}/{dir}/timeline/{timeline}\"\n",
    "    for device in device_list:\n",
    "        with open(device_list[device], 'r+') as file:\n",
    "            timeline = json.load(file)\n",
    "        for node in timeline:\n",
    "            if \"name\" in node and node[\"name\"] == \"process_name\":\n",
    "                if \"args\" in node and \"name\" in node[\"args\"]:\n",
    "                    value = node[\"args\"][\"name\"]\n",
    "                    node[\"args\"][\"name\"] = f\"{device} {value}\"\n",
    "            elif \"name\" in node and node[\"name\"] == \"thread_name\":\n",
    "                if \"args\" in node and \"name\" in node[\"args\"]:\n",
    "                    value = node[\"args\"][\"name\"]\n",
    "                    node[\"args\"][\"name\"] = f\"{device} {value}\"\n",
    "            merge_timeline.append(node)\n",
    "    with open(dst_file, 'w+') as file:\n",
    "        json.dump(merge_timeline, file)\n",
    "    return device_list\n"
   ]
  },
  {
   "cell_type": "code",
   "execution_count": null,
   "metadata": {},
   "outputs": [],
   "source": [
    "os.environ['HCCL_TEST_USE_DEVS'] = \",\".join(npu_list)\n",
    "start_time = time.time()\n",
    "for i in range(len(mem_list)):\n",
    "    [func, mem_size] = mem_list[i]\n",
    "    prt_precent = f\"{((i + 1.0) / mem_count * 100):02.2f}%\"\n",
    "    print(f'{i + 1:03d} / {len(mem_list):03d} ({prt_precent}) >> {func} in {get_size(mem_size)}...', end='')\n",
    "    run_file = get_script(func, mem_size)\n",
    "    log_path = f\"{root_path}/log\"\n",
    "    os.system(f\"rm -rf {log_path}/tmp\")\n",
    "    cmd = f\"\"\"msprof --application=\"{run_file}.sh\" \\\n",
    "        --output=\"{log_path}/tmp\" \\\n",
    "        --host-sys=cpu,mem,network \\\n",
    "        --sys-hardware-mem=on \\\n",
    "        --sys-cpu-profiling=on \\\n",
    "        --sys-profiling=on > {run_file}.log\"\"\"\n",
    "    os.system(cmd)\n",
    "    dst_path = f\"{log_path}/prof/{func}_{get_size(mem_size)}\"\n",
    "    device_list = merge_json(f\"{log_path}/tmp\", f\"{dst_path}.json\")\n",
    "    # if not os.path.exists(dst_path):\n",
    "    #     os.makedirs(dst_path)\n",
    "    # for device in device_list:\n",
    "    #     os.system(f\"cp {device_list[device]} {dst_path}/{device}.json\")\n",
    "    # os.system(f\"rm -rf {log_path}/tmp\")\n",
    "    os.system(f\"rm {run_file}.sh\")\n",
    "    os.system(f\"rm {run_file}.log\")\n",
    "    print(f' {get_time(start_time)} done')\n",
    "    break"
   ]
  }
 ],
 "metadata": {
  "kernelspec": {
   "display_name": "mindspore",
   "language": "python",
   "name": "python3"
  },
  "language_info": {
   "codemirror_mode": {
    "name": "ipython",
    "version": 3
   },
   "file_extension": ".py",
   "mimetype": "text/x-python",
   "name": "python",
   "nbconvert_exporter": "python",
   "pygments_lexer": "ipython3",
   "version": "3.7.12"
  }
 },
 "nbformat": 4,
 "nbformat_minor": 2
}
