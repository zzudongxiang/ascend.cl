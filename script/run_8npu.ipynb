{
 "cells": [
  {
   "cell_type": "markdown",
   "metadata": {},
   "source": [
    "# 测试8个GPU之间的HCCL通信带宽的脚本\n",
    "\n",
    "- **平均测试时间**：是指某一算法先做m次预热，再做n次测试，并从n次测试开始计时，计算算法完成时平均每次迭代的耗时\n",
    "\n",
    "- **算法带宽**：是指申请内存大小/平均时间的数据，包含数据传输、计算和内存复制的带宽"
   ]
  },
  {
   "cell_type": "markdown",
   "metadata": {},
   "source": [
    "## I. 导入相关的包并定义初始化的变量"
   ]
  },
  {
   "cell_type": "code",
   "execution_count": null,
   "metadata": {
    "scrolled": true
   },
   "outputs": [],
   "source": [
    "import os, re, time, json, stat\n",
    "root_path = \"/root/workdir/hccl_test\"\n",
    "# 定义算法的名字和对应的绘图的颜色\n",
    "test_func = [\n",
    "    \"all_gather\",\n",
    "    \"all_reduce\",\n",
    "    \"alltoall\",\n",
    "    \"alltoallv\",\n",
    "    \"broadcast\",\n",
    "    \"reduce\",\n",
    "    \"reduce_scatter\",\n",
    "]\n",
    "# HCCL通信的缓冲区大小，单位MB\n",
    "hccl_buffer_size = 2048\n",
    "# 其实内存容量（单位Byte）\n",
    "test_mem_start = 2048*1024*1024\n",
    "# 结束的内存容量（单位Byte）\n",
    "test_mem_stop = 2048*1024*1024\n",
    "# 增长倍数\n",
    "test_mem_factor = 2\n",
    "# 指定参与运算的NPU卡号\n",
    "npu_list = [\"0\", \"1\", \"2\", \"3\",] #  \"4\", \"5\", \"6\", \"7\""
   ]
  },
  {
   "cell_type": "markdown",
   "metadata": {},
   "source": [
    "## II. 进行HCCL测试"
   ]
  },
  {
   "cell_type": "markdown",
   "metadata": {},
   "source": [
    "### 2.1 清理工作环境"
   ]
  },
  {
   "cell_type": "code",
   "execution_count": null,
   "metadata": {
    "scrolled": true
   },
   "outputs": [],
   "source": [
    "os.chdir(root_path)\n",
    "os.system(f\"rm -rf {root_path}/log\")\n",
    "os.makedirs(f\"{root_path}/log/data\")\n",
    "os.makedirs(f\"{root_path}/log/prof\")\n",
    "print(os.getcwd())"
   ]
  },
  {
   "cell_type": "markdown",
   "metadata": {},
   "source": [
    "### 2.2 编译相关函数\n",
    "\n",
    "#### A. 获取文件大小"
   ]
  },
  {
   "cell_type": "code",
   "execution_count": null,
   "metadata": {
    "scrolled": true
   },
   "outputs": [],
   "source": [
    "def get_size(size):\n",
    "    units = ['B', 'kB', 'MB', 'GB', 'TB']\n",
    "    unit_index = 0\n",
    "    while size > 1024:\n",
    "        size = size / 1024.00\n",
    "        unit_index += 1\n",
    "    return f'{size}{units[unit_index]}'"
   ]
  },
  {
   "cell_type": "markdown",
   "metadata": {},
   "source": [
    "#### B. 生成执行脚本"
   ]
  },
  {
   "cell_type": "code",
   "execution_count": null,
   "metadata": {},
   "outputs": [],
   "source": [
    "def get_script(func, mem_size):\n",
    "    npus = len(npu_list)\n",
    "    script_file = f\"{root_path}/log/temp_run\"\n",
    "    cmd = f\"\"\"mpirun -n {npus} {root_path}/bin/{func}_test \\\n",
    "        -b {mem_size} \\\n",
    "        -e {mem_size} \\\n",
    "        -p {npus} > {root_path}/log/data/{func}_{len(npu_list)}npu.log\"\"\"\n",
    "    with open(f\"{script_file}.sh\", 'w+') as file:\n",
    "        file.writelines(cmd)\n",
    "    os.chmod(f'{script_file}.sh', stat.S_IRWXU)\n",
    "    return script_file"
   ]
  },
  {
   "cell_type": "markdown",
   "metadata": {},
   "source": [
    "#### C. 获取运行时间"
   ]
  },
  {
   "cell_type": "code",
   "execution_count": null,
   "metadata": {},
   "outputs": [],
   "source": [
    "def get_time(start_time):\n",
    "    day = 0\n",
    "    hour = 0\n",
    "    minute = 0\n",
    "    second = 0\n",
    "    second = int(time.time() - start_time)\n",
    "    while second > 60:\n",
    "        second = second - 60\n",
    "        minute += 1\n",
    "    while minute > 60:\n",
    "        minute = minute - 60\n",
    "        hour += 1\n",
    "    while hour > 24:\n",
    "        hour = hour - 24\n",
    "        day += 1\n",
    "    if day > 0:\n",
    "        return f\"{day} day {hour:02d}:{minute:02d}:{second:02d}\"\n",
    "    else:\n",
    "        return f\"{hour:02d}:{minute:02d}:{second:02d}\""
   ]
  },
  {
   "cell_type": "markdown",
   "metadata": {},
   "source": [
    "#### D. 合并Json文件"
   ]
  },
  {
   "cell_type": "code",
   "execution_count": null,
   "metadata": {},
   "outputs": [],
   "source": [
    "def merge_json(src_path, dst_file):\n",
    "    device_list = {}\n",
    "    merge_timeline = []\n",
    "    pid_list = {}\n",
    "    for dir in os.listdir(src_path):\n",
    "        cur_device = \"null\"\n",
    "        for device in os.listdir(f\"{src_path}/{dir}\"):\n",
    "            if re.match(r\"device_\\d+\", device):\n",
    "                cur_device = device\n",
    "                break\n",
    "        timeline = os.listdir(f\"{src_path}/{dir}/timeline\")[-1]\n",
    "        if cur_device not in device_list:\n",
    "            device_list[cur_device] = []\n",
    "        device_list[cur_device].append(f\"{src_path}/{dir}/timeline/{timeline}\")\n",
    "    for device in device_list:\n",
    "        for device_file in device_list[device]:\n",
    "            with open(device_file, 'r+') as file:\n",
    "                timeline = json.load(file)\n",
    "            for node in timeline:\n",
    "                if \"name\" in node and \"args\" in node:\n",
    "                    name = node[\"name\"]\n",
    "                    args = node[\"args\"]\n",
    "                    if name == \"process_name\" and \"name\" in args:\n",
    "                        value = args[\"name\"]\n",
    "                        args[\"name\"] = f\"{device} {value}\"\n",
    "                        pid_list[node[\"pid\"]] = f\"{device} {value}\"\n",
    "                    elif name == \"thread_name\" and \"name\" in args:\n",
    "                        value = args[\"name\"]\n",
    "                        args[\"name\"] = f\"{device} {value}\"\n",
    "                merge_timeline.append(node)\n",
    "    pid_list = dict(sorted(pid_list.items(), key=lambda x:x[1]))\n",
    "    for node in merge_timeline:\n",
    "        if \"name\" in node and node[\"name\"] == \"process_sort_index\" and \"args\" in node and \"sort_index\" in node[\"args\"]:\n",
    "            node[\"args\"][\"sort_index\"] = pid_list[node[\"pid\"]]\n",
    "    with open(dst_file, 'w+') as file:\n",
    "        json.dump(merge_timeline, file, indent=4)\n",
    "    return device_list\n"
   ]
  },
  {
   "cell_type": "markdown",
   "metadata": {},
   "source": [
    "#### E. 性能测试命令"
   ]
  },
  {
   "cell_type": "code",
   "execution_count": null,
   "metadata": {},
   "outputs": [],
   "source": [
    "def run_profiling(script_file, tmp_path):\n",
    "    # https://www.hiascend.com/document/detail/zh/CANNCommunityEdition/80RC1alpha003/devaids/auxiliarydevtool/atlasprofiling_16_0012.html\n",
    "    os.system(f\"rm -rf {tmp_path}\")\n",
    "    cmd = f\"\"\"msprof --application=\"{script_file}.sh\" \\\n",
    "        --storage-limit=1024MB \\\n",
    "        --host-sys=cpu,mem,network \\\n",
    "        --sys-profiling=on \\\n",
    "        --sys-cpu-profiling=on \\\n",
    "        --sys-hardware-mem=on \\\n",
    "        --sys-io-profiling=on \\\n",
    "        --ai-core=on \\\n",
    "        --aic-mode=task-based \\\n",
    "        --output=\"{tmp_path}\" > {script_file}.log\"\"\"\n",
    "    os.system(cmd)\n",
    "    return f\"{script_file}.log\""
   ]
  },
  {
   "cell_type": "markdown",
   "metadata": {},
   "source": [
    "### 2.3 执行测试脚本\n",
    "\n",
    "#### A. 重新生成可执行文件"
   ]
  },
  {
   "cell_type": "code",
   "execution_count": null,
   "metadata": {},
   "outputs": [],
   "source": [
    "os.chdir(root_path)\n",
    "os.system(f\"rm -rf {root_path}/log\")\n",
    "os.makedirs(f\"{root_path}/log/data\")\n",
    "os.makedirs(f\"{root_path}/log/prof\")\n",
    "\n",
    "os.system(\"make clean\")\n",
    "os.system(\"make\")\n",
    "\n",
    "print(os.getcwd())"
   ]
  },
  {
   "cell_type": "markdown",
   "metadata": {},
   "source": [
    "#### B. 重置处理列表"
   ]
  },
  {
   "cell_type": "code",
   "execution_count": null,
   "metadata": {},
   "outputs": [],
   "source": [
    "mem_list = []\n",
    "mem_size = test_mem_start\n",
    "while mem_size <= test_mem_stop:\n",
    "    for func in test_func:\n",
    "        mem_list.append([func, mem_size])\n",
    "    mem_size = mem_size * 2\n",
    "mem_count = len(mem_list)\n",
    "print(f\"mem_list len: {mem_count}\")"
   ]
  },
  {
   "cell_type": "code",
   "execution_count": null,
   "metadata": {},
   "outputs": [],
   "source": [
    "mem_list = [\n",
    "    # [\"all_gather\", 2048*1024*1024],\n",
    "    # [\"all_reduce\", 2048*1024*1024],\n",
    "    # [\"alltoall\", 2048*1024*1024],\n",
    "    # [\"alltoallv\", 2048*1024*1024],\n",
    "    [\"broadcast\", 2048*1024*1024],\n",
    "    # [\"reduce\", 2048*1024*1024],\n",
    "    # [\"reduce_scatter\", 2048*1024*1024],\n",
    "]\n",
    "mem_count = len(mem_list)\n",
    "print(f\"mem_list len: {mem_count}\")"
   ]
  },
  {
   "cell_type": "markdown",
   "metadata": {},
   "source": [
    "#### C. 运行性能测试"
   ]
  },
  {
   "cell_type": "code",
   "execution_count": null,
   "metadata": {
    "scrolled": true
   },
   "outputs": [],
   "source": [
    "os.environ['HCCL_BUFFSIZE'] = str(hccl_buffer_size)\n",
    "os.environ['HCCL_TEST_USE_DEVS'] = \",\".join(npu_list)\n",
    "\n",
    "for i in range(len(mem_list)):\n",
    "    # 初始化变量\n",
    "    start_time = time.time()\n",
    "    [func, mem_size] = mem_list[i]\n",
    "    prt_precent = f\"{((i + 1.0) / mem_count * 100):02.2f}%\"\n",
    "    print(f'{i + 1:03d} / {len(mem_list):03d} ({prt_precent}) >> {func} in {get_size(mem_size)}...', end='')\n",
    "    # 设置路径\n",
    "    log_path = f\"{root_path}/log\"\n",
    "    prof_path = f\"{log_path}/prof\"\n",
    "    tmp_path = f\"{log_path}/tmp\"\n",
    "    out_path = f\"{prof_path}/{func}_{get_size(mem_size)}.json\"\n",
    "    # 生成脚本，运行测试，合并结果\n",
    "    script_file = get_script(func, mem_size)\n",
    "    script_path = run_profiling(script_file, tmp_path)\n",
    "    merge_json(tmp_path, out_path)\n",
    "    print(f' {get_time(start_time)} done')\n",
    "    # 清理环境\n",
    "    break\n",
    "    os.system(f\"rm -rf {tmp_path}\")\n",
    "    os.system(f\"rm {script_file}.sh\")\n",
    "    os.system(f\"rm {script_file}.log\")"
   ]
  },
  {
   "cell_type": "markdown",
   "metadata": {},
   "source": [
    "#### D. 运行测试脚本"
   ]
  },
  {
   "cell_type": "code",
   "execution_count": null,
   "metadata": {},
   "outputs": [],
   "source": [
    "os.environ['HCCL_BUFFSIZE'] = str(hccl_buffer_size)\n",
    "os.environ['HCCL_TEST_USE_DEVS'] = \",\".join(npu_list)\n",
    "\n",
    "for i in range(len(mem_list)):\n",
    "    # 初始化变量\n",
    "    start_time = time.time()\n",
    "    [func, mem_size] = mem_list[i]\n",
    "    prt_precent = f\"{((i + 1.0) / mem_count * 100):02.2f}%\"\n",
    "    print(f'{i + 1:03d} / {len(mem_list):03d} ({prt_precent}) >> {func} in {get_size(mem_size)}...', end='')\n",
    "    # 设置路径, 运行脚本\n",
    "    log_path = f\"{root_path}/log\"\n",
    "    os.system(f\"bash {get_script(func, mem_size)}.sh\")\n",
    "    print(f' {get_time(start_time)} done')"
   ]
  }
 ],
 "metadata": {
  "kernelspec": {
   "display_name": "Python 3 (ipykernel)",
   "language": "python",
   "name": "python3"
  },
  "language_info": {
   "codemirror_mode": {
    "name": "ipython",
    "version": 3
   },
   "file_extension": ".py",
   "mimetype": "text/x-python",
   "name": "python",
   "nbconvert_exporter": "python",
   "pygments_lexer": "ipython3",
   "version": "3.7.12"
  }
 },
 "nbformat": 4,
 "nbformat_minor": 2
}
